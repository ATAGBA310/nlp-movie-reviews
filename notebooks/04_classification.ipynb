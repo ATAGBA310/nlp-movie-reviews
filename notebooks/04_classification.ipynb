{
 "cells": [
  {
   "cell_type": "code",
   "execution_count": 1,
   "id": "f152b262-373a-4792-af64-af6d6f2b35a6",
   "metadata": {},
   "outputs": [
    {
     "name": "stdout",
     "output_type": "stream",
     "text": [
      "                                                  review sentiment\n",
      "33553  I really liked this Summerslam due to the look...  positive\n",
      "9427   Not many television shows appeal to quite as m...  positive\n",
      "199    The film quickly gets to a major chase scene w...  negative\n",
      "12447  Jane Austen would definitely approve of this o...  positive\n",
      "39489  Expectations were somewhat high for me when I ...  negative\n"
     ]
    }
   ],
   "source": [
    "import pandas as pd\n",
    "\n",
    "# Charger le dataset complet (avec les sentiments)\n",
    "df = pd.read_csv('../data/IMDB Dataset.csv')\n",
    "\n",
    "# Échantillon aléatoire de 1000 critiques\n",
    "sample_df = df.sample(n=1000, random_state=42)\n",
    "\n",
    "# Sauvegarde dans un nouveau fichier\n",
    "sample_df.to_csv('../data/sample_1000_annotated.csv', index=False)\n",
    "\n",
    "# Vérification rapide\n",
    "print(sample_df.head())"
   ]
  },
  {
   "cell_type": "code",
   "execution_count": 2,
   "id": "bbc74097-30f2-4552-a206-bf47392a05cb",
   "metadata": {},
   "outputs": [],
   "source": [
    "import spacy\n",
    "import re\n",
    "\n",
    "# Charger le modèle spaCy anglais\n",
    "nlp = spacy.load(\"en_core_web_sm\")\n",
    "\n",
    "# Fonction de nettoyage + lemmatisation\n",
    "def preprocess(text):\n",
    "    # Supprimer les balises HTML\n",
    "    text = re.sub(r'<.*?>', '', text)\n",
    "    \n",
    "    # Supprimer les caractères spéciaux, chiffres, ponctuations\n",
    "    text = re.sub(r\"[^a-zA-Z\\s]\", '', text)\n",
    "    \n",
    "    # Passage en minuscules\n",
    "    text = text.lower()\n",
    "\n",
    "    # Traitement spaCy : lemmatisation et suppression des stopwords\n",
    "    doc = nlp(text)\n",
    "    tokens = [token.lemma_ for token in doc if not token.is_stop and not token.is_punct]\n",
    "\n",
    "    return ' '.join(tokens)"
   ]
  },
  {
   "cell_type": "code",
   "execution_count": 3,
   "id": "804b9ab1-355a-416d-adf4-0e2e31dac6f7",
   "metadata": {},
   "outputs": [],
   "source": [
    "sample_df['cleaned_review'] = sample_df['review'].apply(preprocess)"
   ]
  },
  {
   "cell_type": "code",
   "execution_count": 4,
   "id": "fd07432a-f747-462b-a10c-1657c98c2d69",
   "metadata": {},
   "outputs": [],
   "source": [
    "sample_df['label'] = sample_df['sentiment'].map({'positive': 1, 'negative': 0})"
   ]
  },
  {
   "cell_type": "code",
   "execution_count": 5,
   "id": "20ca7be3-d9de-46d8-898d-4f335b810474",
   "metadata": {},
   "outputs": [],
   "source": [
    "sample_df.to_csv('../data/sample_1000_ready.csv', index=False)"
   ]
  },
  {
   "cell_type": "code",
   "execution_count": 6,
   "id": "aa561ab5-013a-44a0-ba86-93818c30bfe8",
   "metadata": {},
   "outputs": [
    {
     "name": "stdout",
     "output_type": "stream",
     "text": [
      "Requirement already satisfied: seaborn in c:\\users\\utilisateur\\appdata\\local\\programs\\python\\python310\\lib\\site-packages (0.13.2)\n",
      "Requirement already satisfied: numpy!=1.24.0,>=1.20 in c:\\users\\utilisateur\\appdata\\local\\programs\\python\\python310\\lib\\site-packages (from seaborn) (1.26.4)\n",
      "Requirement already satisfied: pandas>=1.2 in c:\\users\\utilisateur\\appdata\\local\\programs\\python\\python310\\lib\\site-packages (from seaborn) (2.2.3)\n",
      "Requirement already satisfied: matplotlib!=3.6.1,>=3.4 in c:\\users\\utilisateur\\appdata\\local\\programs\\python\\python310\\lib\\site-packages (from seaborn) (3.10.1)\n",
      "Requirement already satisfied: contourpy>=1.0.1 in c:\\users\\utilisateur\\appdata\\local\\programs\\python\\python310\\lib\\site-packages (from matplotlib!=3.6.1,>=3.4->seaborn) (1.3.1)\n",
      "Requirement already satisfied: cycler>=0.10 in c:\\users\\utilisateur\\appdata\\local\\programs\\python\\python310\\lib\\site-packages (from matplotlib!=3.6.1,>=3.4->seaborn) (0.12.1)\n",
      "Requirement already satisfied: fonttools>=4.22.0 in c:\\users\\utilisateur\\appdata\\local\\programs\\python\\python310\\lib\\site-packages (from matplotlib!=3.6.1,>=3.4->seaborn) (4.56.0)\n",
      "Requirement already satisfied: kiwisolver>=1.3.1 in c:\\users\\utilisateur\\appdata\\local\\programs\\python\\python310\\lib\\site-packages (from matplotlib!=3.6.1,>=3.4->seaborn) (1.4.8)\n",
      "Requirement already satisfied: packaging>=20.0 in c:\\users\\utilisateur\\appdata\\local\\programs\\python\\python310\\lib\\site-packages (from matplotlib!=3.6.1,>=3.4->seaborn) (24.2)\n",
      "Requirement already satisfied: pillow>=8 in c:\\users\\utilisateur\\appdata\\local\\programs\\python\\python310\\lib\\site-packages (from matplotlib!=3.6.1,>=3.4->seaborn) (11.1.0)\n",
      "Requirement already satisfied: pyparsing>=2.3.1 in c:\\users\\utilisateur\\appdata\\local\\programs\\python\\python310\\lib\\site-packages (from matplotlib!=3.6.1,>=3.4->seaborn) (3.2.1)\n",
      "Requirement already satisfied: python-dateutil>=2.7 in c:\\users\\utilisateur\\appdata\\local\\programs\\python\\python310\\lib\\site-packages (from matplotlib!=3.6.1,>=3.4->seaborn) (2.9.0.post0)\n",
      "Requirement already satisfied: pytz>=2020.1 in c:\\users\\utilisateur\\appdata\\local\\programs\\python\\python310\\lib\\site-packages (from pandas>=1.2->seaborn) (2025.1)\n",
      "Requirement already satisfied: tzdata>=2022.7 in c:\\users\\utilisateur\\appdata\\local\\programs\\python\\python310\\lib\\site-packages (from pandas>=1.2->seaborn) (2025.1)\n",
      "Requirement already satisfied: six>=1.5 in c:\\users\\utilisateur\\appdata\\local\\programs\\python\\python310\\lib\\site-packages (from python-dateutil>=2.7->matplotlib!=3.6.1,>=3.4->seaborn) (1.17.0)\n"
     ]
    }
   ],
   "source": [
    "!pip install seaborn"
   ]
  },
  {
   "cell_type": "code",
   "execution_count": 7,
   "id": "381ba30e-62dd-4d56-ad92-619b54868740",
   "metadata": {},
   "outputs": [
    {
     "name": "stdout",
     "output_type": "stream",
     "text": [
      "                                              review sentiment  \\\n",
      "0  I really liked this Summerslam due to the look...  positive   \n",
      "1  Not many television shows appeal to quite as m...  positive   \n",
      "\n",
      "                                      cleaned_review  label  \n",
      "0  like summerslam look arena curtain look overal...      1  \n",
      "1  television show appeal different kind fan like...      1  \n",
      "label\n",
      "0    524\n",
      "1    476\n",
      "Name: count, dtype: int64\n"
     ]
    }
   ],
   "source": [
    "# Imports\n",
    "import pandas as pd\n",
    "from sklearn.model_selection import train_test_split\n",
    "from sklearn.feature_extraction.text import TfidfVectorizer\n",
    "from sklearn.linear_model import LogisticRegression\n",
    "from sklearn.metrics import classification_report, confusion_matrix\n",
    "import matplotlib.pyplot as plt\n",
    "import seaborn as sns\n",
    "\n",
    "#  Charger le fichier prêt\n",
    "df = pd.read_csv('../data/sample_1000_ready.csv')\n",
    "\n",
    "#  Vérification rapide\n",
    "print(df.head(2))\n",
    "print(df['label'].value_counts())"
   ]
  },
  {
   "cell_type": "code",
   "execution_count": 8,
   "id": "82913e00-c3ad-4b39-8f06-234c1186171a",
   "metadata": {},
   "outputs": [
    {
     "name": "stdout",
     "output_type": "stream",
     "text": [
      "Rapport de classification :\n",
      "\n",
      "              precision    recall  f1-score   support\n",
      "\n",
      "           0       0.82      0.82      0.82       157\n",
      "           1       0.80      0.80      0.80       143\n",
      "\n",
      "    accuracy                           0.81       300\n",
      "   macro avg       0.81      0.81      0.81       300\n",
      "weighted avg       0.81      0.81      0.81       300\n",
      "\n"
     ]
    },
    {
     "data": {
      "image/png": "[encoded data removed]",
      "text/plain": [
       "<Figure size 600x500 with 2 Axes>"
      ]
     },
     "metadata": {},
     "output_type": "display_data"
    }
   ],
   "source": [
    "#  Séparation en train/test\n",
    "X = df['cleaned_review']\n",
    "y = df['label']\n",
    "X_train, X_test, y_train, y_test = train_test_split(X, y, test_size=0.3, random_state=42)\n",
    "\n",
    "#  Vectorisation TF-IDF\n",
    "vectorizer = TfidfVectorizer()\n",
    "X_train_tfidf = vectorizer.fit_transform(X_train)\n",
    "X_test_tfidf = vectorizer.transform(X_test)\n",
    "\n",
    "# Entraînement du modèle\n",
    "model = LogisticRegression(max_iter=1000)\n",
    "model.fit(X_train_tfidf, y_train)\n",
    "\n",
    "#  Prédictions\n",
    "y_pred = model.predict(X_test_tfidf)\n",
    "\n",
    "# Rapport de classification\n",
    "print(\"Rapport de classification :\\n\")\n",
    "print(classification_report(y_test, y_pred))\n",
    "\n",
    "# Matrice de confusion\n",
    "cm = confusion_matrix(y_test, y_pred)\n",
    "plt.figure(figsize=(6, 5))\n",
    "sns.heatmap(cm, annot=True, fmt='d', cmap='Blues')\n",
    "plt.xlabel(\"Prédit\")\n",
    "plt.ylabel(\"Réel\")\n",
    "plt.title(\"Matrice de confusion\")\n",
    "plt.show()"
   ]
  },
  {
   "cell_type": "code",
   "execution_count": 9,
   "id": "623d9d34-7ef4-46bc-8d3d-ad4ca2464c4a",
   "metadata": {},
   "outputs": [
    {
     "name": "stdout",
     "output_type": "stream",
     "text": [
      "Modèle Word2Vec chargé.\n"
     ]
    }
   ],
   "source": [
    "from gensim.models import Word2Vec\n",
    "\n",
    "# Charger le modèle Word2Vec pré-entrainé\n",
    "w2v_model = Word2Vec.load('../models/word2vec.model')\n",
    "print(\"Modèle Word2Vec chargé.\")"
   ]
  },
  {
   "cell_type": "code",
   "execution_count": 10,
   "id": "c9336862-c9f1-4864-a374-f71d9b7fb66b",
   "metadata": {},
   "outputs": [],
   "source": [
    "import numpy as np\n",
    "\n",
    "# Fonction pour obtenir la moyenne des vecteurs Word2Vec d’un texte\n",
    "def get_average_w2v_vector(tokens, model, vector_size):\n",
    "    valid_tokens = [token for token in tokens if token in model.wv]\n",
    "    if not valid_tokens:\n",
    "        return np.zeros(vector_size)\n",
    "    return np.mean([model.wv[token] for token in valid_tokens], axis=0)\n",
    "\n",
    "# Tokenisation simple (les textes sont déjà nettoyés)\n",
    "df['tokens'] = df['cleaned_review'].apply(lambda x: x.split())\n",
    "\n",
    "# Appliquer la fonction pour créer les vecteurs\n",
    "vector_size = w2v_model.vector_size\n",
    "X_vectors = np.array([get_average_w2v_vector(tokens, w2v_model, vector_size) for tokens in df['tokens']])\n",
    "y = df['label']"
   ]
  },
  {
   "cell_type": "code",
   "execution_count": 11,
   "id": "1609ded2-dc01-4e5f-9f6b-deecf7a04936",
   "metadata": {},
   "outputs": [
    {
     "name": "stdout",
     "output_type": "stream",
     "text": [
      "Rapport de classification :\n",
      "\n",
      "              precision    recall  f1-score   support\n",
      "\n",
      "           0       0.61      0.71      0.66       157\n",
      "           1       0.61      0.50      0.55       143\n",
      "\n",
      "    accuracy                           0.61       300\n",
      "   macro avg       0.61      0.60      0.60       300\n",
      "weighted avg       0.61      0.61      0.61       300\n",
      "\n"
     ]
    },
    {
     "data": {
      "image/png": "[encoded data removed]",
      "text/plain": [
       "<Figure size 600x500 with 2 Axes>"
      ]
     },
     "metadata": {},
     "output_type": "display_data"
    }
   ],
   "source": [
    "from sklearn.model_selection import train_test_split\n",
    "from sklearn.linear_model import LogisticRegression\n",
    "from sklearn.metrics import classification_report, confusion_matrix\n",
    "import seaborn as sns\n",
    "import matplotlib.pyplot as plt\n",
    "\n",
    "# Split des données\n",
    "X_train, X_test, y_train, y_test = train_test_split(X_vectors, y, test_size=0.3, random_state=42)\n",
    "\n",
    "# Modèle de classification\n",
    "model = LogisticRegression(max_iter=1000)\n",
    "model.fit(X_train, y_train)\n",
    "\n",
    "# Prédictions\n",
    "y_pred = model.predict(X_test)\n",
    "\n",
    "# Rapport de classification\n",
    "print(\"Rapport de classification :\\n\")\n",
    "print(classification_report(y_test, y_pred))\n",
    "\n",
    "# Matrice de confusion\n",
    "cm = confusion_matrix(y_test, y_pred)\n",
    "plt.figure(figsize=(6, 5))\n",
    "sns.heatmap(cm, annot=True, fmt='d', cmap='Oranges')\n",
    "plt.xlabel(\"Prédit\")\n",
    "plt.ylabel(\"Réel\")\n",
    "plt.title(\"Matrice de confusion (Word2Vec)\")\n",
    "plt.show()"
   ]
  },
  {
   "cell_type": "code",
   "execution_count": null,
   "id": "d424afaf-e9cc-4656-8a23-4683b62c598f",
   "metadata": {},
   "outputs": [],
   "source": []
  }
 ],
 "metadata": {
  "kernelspec": {
   "display_name": "Python 3 (ipykernel)",
   "language": "python",
   "name": "python3"
  },
  "language_info": {
   "codemirror_mode": {
    "name": "ipython",
    "version": 3
   },
   "file_extension": ".py",
   "mimetype": "text/x-python",
   "name": "python",
   "nbconvert_exporter": "python",
   "pygments_lexer": "ipython3",
   "version": "3.10.0"
  }
 },
 "nbformat": 4,
 "nbformat_minor": 5
}
