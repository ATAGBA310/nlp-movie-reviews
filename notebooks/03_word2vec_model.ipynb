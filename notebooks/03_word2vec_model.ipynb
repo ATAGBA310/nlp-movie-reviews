{
 "cells": [
  {
   "cell_type": "code",
   "execution_count": 1,
   "id": "ae4aaf44-c20e-430a-99e6-41007c522e28",
   "metadata": {
    "scrolled": true
   },
   "outputs": [
    {
     "name": "stdout",
     "output_type": "stream",
     "text": [
      "1000 critiques chargées.\n",
      "Aperçu des données :\n",
      "                                      cleaned_review\n",
      "0  like summerslam look arena curtain look overal...\n",
      "1  television show appeal different kind fan like...\n"
     ]
    },
    {
     "data": {
      "application/vnd.jupyter.widget-view+json": {
       "model_id": "9c9f850dbe2f4170a6356cdd357a39d3",
       "version_major": 2,
       "version_minor": 0
      },
      "text/plain": [
       "  0%|          | 0/1000 [00:00<?, ?it/s]"
      ]
     },
     "metadata": {},
     "output_type": "display_data"
    },
    {
     "name": "stdout",
     "output_type": "stream",
     "text": [
      "\n",
      " Longueur moyenne des critiques : 103.16 tokens\n",
      "\n",
      "Entraînement du modèle Word2Vec...\n",
      "Modèle Word2Vec sauvegardé.\n",
      "\n",
      "Mots similaires à 'movie' :\n",
      "review          0.9906\n",
      "horror          0.9892\n",
      "worth           0.9876\n",
      "sure            0.9872\n",
      "fan             0.9871\n",
      "probably        0.9870\n",
      "ending          0.9870\n",
      "overall         0.9868\n",
      "enjoy           0.9864\n",
      "laugh           0.9858\n",
      "\n",
      " Vecteur pour 'film' :\n",
      "[-0.08433254  0.22839816  0.16858709  0.07836687 -0.04039513 -0.37387913\n",
      "  0.1203592   0.4033263  -0.27948096 -0.26791123]\n"
     ]
    }
   ],
   "source": [
    "# Imports\n",
    "import os\n",
    "import pandas as pd\n",
    "from gensim.models import Word2Vec\n",
    "from gensim.utils import simple_preprocess\n",
    "from tqdm.notebook import tqdm\n",
    "import matplotlib.pyplot as plt\n",
    "\n",
    "#  Charger les données nettoyées\n",
    "df = pd.read_csv('../data/cleaned_reviews.csv')\n",
    "\n",
    "# Vérif rapide\n",
    "print(f\"{len(df)} critiques chargées.\")\n",
    "print(\"Aperçu des données :\")\n",
    "print(df[['cleaned_review']].head(2))\n",
    "\n",
    "# Tokenisation simple pour Word2Vec\n",
    "tqdm.pandas()\n",
    "tokenized_reviews = df['cleaned_review'].progress_apply(simple_preprocess)\n",
    "\n",
    "# Stat : longueur moyenne des critiques tokenisées\n",
    "lengths = tokenized_reviews.apply(len)\n",
    "print(f\"\\n Longueur moyenne des critiques : {lengths.mean():.2f} tokens\")\n",
    "\n",
    "# Entraînement du modèle Word2Vec\n",
    "print(\"\\nEntraînement du modèle Word2Vec...\")\n",
    "w2v_model = Word2Vec(\n",
    "    sentences=tokenized_reviews,\n",
    "    vector_size=100,   # Dim des vecteurs\n",
    "    window=5,\n",
    "    min_count=2,\n",
    "    workers=4,\n",
    "    sg=1\n",
    ")\n",
    "\n",
    "# Sauvegarde du modèle\n",
    "os.makedirs('../models', exist_ok=True)\n",
    "w2v_model.save('../models/word2vec.model')\n",
    "print(\"Modèle Word2Vec sauvegardé.\")\n",
    "\n",
    "# Mots similaires à \"movie\"\n",
    "print(\"\\nMots similaires à 'movie' :\")\n",
    "if 'movie' in w2v_model.wv:\n",
    "    for word, score in w2v_model.wv.most_similar('movie', topn=10):\n",
    "        print(f\"{word:15} {score:.4f}\")\n",
    "else:\n",
    "    print(\"Le mot 'movie' n'est pas dans le vocabulaire du modèle.\")\n",
    "\n",
    "# Vecteur pour \"film\"\n",
    "print(\"\\n Vecteur pour 'film' :\")\n",
    "if 'film' in w2v_model.wv:\n",
    "    print(w2v_model.wv['film'][:10])  # 10 premières valeurs\n",
    "else:\n",
    "    print(\"Le mot 'film' n'est pas dans le vocabulaire du modèle.\")"
   ]
  },
  {
   "cell_type": "code",
   "execution_count": 2,
   "id": "02540a10-91d1-45c4-aaf7-0ae04b399900",
   "metadata": {
    "scrolled": true
   },
   "outputs": [
    {
     "name": "stdout",
     "output_type": "stream",
     "text": [
      "Requirement already satisfied: ipywidgets in c:\\users\\utilisateur\\appdata\\local\\programs\\python\\python310\\lib\\site-packages (8.1.6)\n",
      "Requirement already satisfied: comm>=0.1.3 in c:\\users\\utilisateur\\appdata\\local\\programs\\python\\python310\\lib\\site-packages (from ipywidgets) (0.2.2)\n",
      "Requirement already satisfied: ipython>=6.1.0 in c:\\users\\utilisateur\\appdata\\local\\programs\\python\\python310\\lib\\site-packages (from ipywidgets) (8.14.0)\n",
      "Requirement already satisfied: traitlets>=4.3.1 in c:\\users\\utilisateur\\appdata\\local\\programs\\python\\python310\\lib\\site-packages (from ipywidgets) (5.9.0)\n",
      "Requirement already satisfied: widgetsnbextension~=4.0.14 in c:\\users\\utilisateur\\appdata\\local\\programs\\python\\python310\\lib\\site-packages (from ipywidgets) (4.0.14)\n",
      "Requirement already satisfied: jupyterlab_widgets~=3.0.14 in c:\\users\\utilisateur\\appdata\\local\\programs\\python\\python310\\lib\\site-packages (from ipywidgets) (3.0.14)\n",
      "Requirement already satisfied: backcall in c:\\users\\utilisateur\\appdata\\local\\programs\\python\\python310\\lib\\site-packages (from ipython>=6.1.0->ipywidgets) (0.2.0)\n",
      "Requirement already satisfied: decorator in c:\\users\\utilisateur\\appdata\\local\\programs\\python\\python310\\lib\\site-packages (from ipython>=6.1.0->ipywidgets) (5.1.1)\n",
      "Requirement already satisfied: jedi>=0.16 in c:\\users\\utilisateur\\appdata\\local\\programs\\python\\python310\\lib\\site-packages (from ipython>=6.1.0->ipywidgets) (0.19.0)\n",
      "Requirement already satisfied: matplotlib-inline in c:\\users\\utilisateur\\appdata\\local\\programs\\python\\python310\\lib\\site-packages (from ipython>=6.1.0->ipywidgets) (0.1.6)\n",
      "Requirement already satisfied: pickleshare in c:\\users\\utilisateur\\appdata\\local\\programs\\python\\python310\\lib\\site-packages (from ipython>=6.1.0->ipywidgets) (0.7.5)\n",
      "Requirement already satisfied: prompt-toolkit!=3.0.37,<3.1.0,>=3.0.30 in c:\\users\\utilisateur\\appdata\\local\\programs\\python\\python310\\lib\\site-packages (from ipython>=6.1.0->ipywidgets) (3.0.39)\n",
      "Requirement already satisfied: pygments>=2.4.0 in c:\\users\\utilisateur\\appdata\\local\\programs\\python\\python310\\lib\\site-packages (from ipython>=6.1.0->ipywidgets) (2.16.1)\n",
      "Requirement already satisfied: stack-data in c:\\users\\utilisateur\\appdata\\local\\programs\\python\\python310\\lib\\site-packages (from ipython>=6.1.0->ipywidgets) (0.6.2)\n",
      "Requirement already satisfied: colorama in c:\\users\\utilisateur\\appdata\\local\\programs\\python\\python310\\lib\\site-packages (from ipython>=6.1.0->ipywidgets) (0.4.6)\n",
      "Requirement already satisfied: parso<0.9.0,>=0.8.3 in c:\\users\\utilisateur\\appdata\\local\\programs\\python\\python310\\lib\\site-packages (from jedi>=0.16->ipython>=6.1.0->ipywidgets) (0.8.3)\n",
      "Requirement already satisfied: wcwidth in c:\\users\\utilisateur\\appdata\\local\\programs\\python\\python310\\lib\\site-packages (from prompt-toolkit!=3.0.37,<3.1.0,>=3.0.30->ipython>=6.1.0->ipywidgets) (0.2.6)\n",
      "Requirement already satisfied: executing>=1.2.0 in c:\\users\\utilisateur\\appdata\\local\\programs\\python\\python310\\lib\\site-packages (from stack-data->ipython>=6.1.0->ipywidgets) (1.2.0)\n",
      "Requirement already satisfied: asttokens>=2.1.0 in c:\\users\\utilisateur\\appdata\\local\\programs\\python\\python310\\lib\\site-packages (from stack-data->ipython>=6.1.0->ipywidgets) (2.2.1)\n",
      "Requirement already satisfied: pure-eval in c:\\users\\utilisateur\\appdata\\local\\programs\\python\\python310\\lib\\site-packages (from stack-data->ipython>=6.1.0->ipywidgets) (0.2.2)\n",
      "Requirement already satisfied: six in c:\\users\\utilisateur\\appdata\\local\\programs\\python\\python310\\lib\\site-packages (from asttokens>=2.1.0->stack-data->ipython>=6.1.0->ipywidgets) (1.17.0)\n"
     ]
    }
   ],
   "source": [
    "!pip install ipywidgets --upgrade"
   ]
  },
  {
   "cell_type": "code",
   "execution_count": 3,
   "id": "de4ec9d6-6d90-44af-98ea-5a1dff759f97",
   "metadata": {},
   "outputs": [
    {
     "name": "stdout",
     "output_type": "stream",
     "text": [
      "\n"
     ]
    },
    {
     "name": "stderr",
     "output_type": "stream",
     "text": [
      "(Deprecated) Installing extensions with the jupyter labextension install command is now deprecated and will be removed in a future major version of JupyterLab.\n",
      "\n",
      "Users should manage prebuilt extensions with package managers like pip and conda, and extension authors are encouraged to distribute their extensions as prebuilt packages \n",
      "Building jupyterlab assets (production, minimized)\n"
     ]
    }
   ],
   "source": [
    "!jupyter labextension install @jupyter-widgets/jupyterlab-manager"
   ]
  },
  {
   "cell_type": "code",
   "execution_count": 4,
   "id": "4cee61f1-70db-4ad2-a37a-6d385e19000c",
   "metadata": {},
   "outputs": [
    {
     "name": "stdout",
     "output_type": "stream",
     "text": [
      "Requirement already satisfied: scikit-learn in c:\\users\\utilisateur\\appdata\\local\\programs\\python\\python310\\lib\\site-packages (1.6.1)\n",
      "Requirement already satisfied: numpy>=1.19.5 in c:\\users\\utilisateur\\appdata\\local\\programs\\python\\python310\\lib\\site-packages (from scikit-learn) (1.26.4)\n",
      "Requirement already satisfied: scipy>=1.6.0 in c:\\users\\utilisateur\\appdata\\local\\programs\\python\\python310\\lib\\site-packages (from scikit-learn) (1.13.1)\n",
      "Requirement already satisfied: joblib>=1.2.0 in c:\\users\\utilisateur\\appdata\\local\\programs\\python\\python310\\lib\\site-packages (from scikit-learn) (1.4.2)\n",
      "Requirement already satisfied: threadpoolctl>=3.1.0 in c:\\users\\utilisateur\\appdata\\local\\programs\\python\\python310\\lib\\site-packages (from scikit-learn) (3.6.0)\n"
     ]
    }
   ],
   "source": [
    "!pip install scikit-learn"
   ]
  },
  {
   "cell_type": "code",
   "execution_count": 5,
   "id": "75fdd08f-e1d2-457a-a152-b31988c79f59",
   "metadata": {},
   "outputs": [
    {
     "data": {
      "image/png": "[encoded data removed]",
      "text/plain": [
       "<Figure size 1000x600 with 1 Axes>"
      ]
     },
     "metadata": {},
     "output_type": "display_data"
    }
   ],
   "source": [
    "from sklearn.decomposition import PCA\n",
    "import numpy as np\n",
    "import matplotlib.pyplot as plt\n",
    "\n",
    "#  Mot central\n",
    "target_word = \"movie\"\n",
    "\n",
    "# Mots similaires\n",
    "similar_words = w2v_model.wv.most_similar(target_word, topn=20)\n",
    "\n",
    "#  Vecteurs\n",
    "word_labels = [target_word] + [word for word, _ in similar_words]\n",
    "word_vectors = np.array([w2v_model.wv[word] for word in word_labels])\n",
    "\n",
    "# Réduction avec PCA\n",
    "pca = PCA(n_components=2)\n",
    "embeddings_2d = pca.fit_transform(word_vectors)\n",
    "\n",
    "#  Affichage épuré\n",
    "plt.figure(figsize=(10, 6))\n",
    "x = embeddings_2d[:, 0]\n",
    "y = embeddings_2d[:, 1]\n",
    "\n",
    "for i, word in enumerate(word_labels):\n",
    "    color = 'red' if i == 0 else 'blue'\n",
    "    plt.scatter(x[i], y[i], c=color)\n",
    "    plt.text(x[i]+0.01, y[i]+0.01, word, fontsize=12)\n",
    "\n",
    "# Suppression du cadre et de la grille\n",
    "plt.xticks([])\n",
    "plt.yticks([])\n",
    "plt.box(False)\n",
    "plt.title(f\"Mots similaires à '{target_word}' (PCA)\", fontsize=14, pad=10)\n",
    "\n",
    "plt.show()\n"
   ]
  },
  {
   "cell_type": "code",
   "execution_count": null,
   "id": "0a177f5b-db83-481a-8640-c716f24cd447",
   "metadata": {},
   "outputs": [],
   "source": []
  }
 ],
 "metadata": {
  "kernelspec": {
   "display_name": "Python 3 (ipykernel)",
   "language": "python",
   "name": "python3"
  },
  "language_info": {
   "codemirror_mode": {
    "name": "ipython",
    "version": 3
   },
   "file_extension": ".py",
   "mimetype": "text/x-python",
   "name": "python",
   "nbconvert_exporter": "python",
   "pygments_lexer": "ipython3",
   "version": "3.10.0"
  }
 },
 "nbformat": 4,
 "nbformat_minor": 5
}
