{
 "cells": [
  {
   "cell_type": "code",
   "execution_count": 1,
   "id": "0ffa390b-6de8-4be7-9b4f-4e5ce5414e24",
   "metadata": {},
   "outputs": [
    {
     "name": "stdout",
     "output_type": "stream",
     "text": [
      "Échantillon chargé avec 1000 critiques.\n",
      "\n",
      "Aperçu des 5 premières lignes de l'échantillon :\n",
      "                                              review\n",
      "0  I really liked this Summerslam due to the look...\n",
      "1  Not many television shows appeal to quite as m...\n",
      "2  The film quickly gets to a major chase scene w...\n",
      "3  Jane Austen would definitely approve of this o...\n",
      "4  Expectations were somewhat high for me when I ...\n"
     ]
    }
   ],
   "source": [
    "import pandas as pd\n",
    "\n",
    "# Charger l'échantillon déjà créé\n",
    "sample_df = pd.read_csv('../data/sample_1000_reviews.csv')\n",
    "\n",
    "# Vérification que l'échantillon contient bien les critiques sans la colonne 'sentiment'\n",
    "print(f\"Échantillon chargé avec {len(sample_df)} critiques.\")\n",
    "print(\"\\nAperçu des 5 premières lignes de l'échantillon :\")\n",
    "print(sample_df.head())"
   ]
  },
  {
   "cell_type": "code",
   "execution_count": 2,
   "id": "5a84fc8b-e9cc-4177-bf1a-7f1172535bc8",
   "metadata": {},
   "outputs": [
    {
     "name": "stdout",
     "output_type": "stream",
     "text": [
      "                                              review  \\\n",
      "0  I really liked this Summerslam due to the look...   \n",
      "1  Not many television shows appeal to quite as m...   \n",
      "2  The film quickly gets to a major chase scene w...   \n",
      "3  Jane Austen would definitely approve of this o...   \n",
      "4  Expectations were somewhat high for me when I ...   \n",
      "\n",
      "                                      cleaned_review  \n",
      "0  like summerslam look arena curtain look overal...  \n",
      "1  television show appeal different kind fan like...  \n",
      "2  film quickly get major chase scene increase de...  \n",
      "3  jane austen definitely approve onegwyneth palt...  \n",
      "4  expectation somewhat high go movie think steve...  \n",
      "\n",
      "Échantillon nettoyé sauvegardé dans 'cleaned_reviews.csv' avec 1000 critiques.\n"
     ]
    }
   ],
   "source": [
    "import spacy\n",
    "import re\n",
    "import pandas as pd\n",
    "\n",
    "# Charger l'échantillon déjà créé\n",
    "sample_df = pd.read_csv('../data/sample_1000_reviews.csv')\n",
    "\n",
    "# Supprimer la colonne 'sentiment' si elle existe (pour ne plus l'utiliser)\n",
    "sample_df = sample_df.drop(columns=['sentiment'], errors='ignore')\n",
    "\n",
    "# Charger le modèle spaCy\n",
    "nlp = spacy.load(\"en_core_web_sm\")\n",
    "\n",
    "# Fonction de prétraitement\n",
    "def preprocess(text):\n",
    "    # Supprimer les balises HTML\n",
    "    text = re.sub(r'<.*?>', '', text)\n",
    "    \n",
    "    # Supprimer les caractères spéciaux, chiffres, ponctuations\n",
    "    text = re.sub(r\"[^a-zA-Z\\s]\", '', text)\n",
    "    \n",
    "    # Passage en minuscules\n",
    "    text = text.lower()\n",
    "\n",
    "    # Traitement avec spaCy (lemmatisation + stopwords)\n",
    "    doc = nlp(text)\n",
    "    tokens = [token.lemma_ for token in doc if not token.is_stop and not token.is_punct]\n",
    "\n",
    "    return ' '.join(tokens)\n",
    "\n",
    "# Application du prétraitement sur l’échantillon\n",
    "sample_df['cleaned_review'] = sample_df['review'].apply(preprocess)\n",
    "\n",
    "# Aperçu du résultat\n",
    "print(sample_df[['review', 'cleaned_review']].head())\n",
    "\n",
    "# Sauvegarde du fichier nettoyé\n",
    "sample_df.to_csv('../data/cleaned_reviews.csv', index=False)\n",
    "\n",
    "# Vérification après nettoyage\n",
    "print(f\"\\nÉchantillon nettoyé sauvegardé dans 'cleaned_reviews.csv' avec {len(sample_df)} critiques.\")\n"
   ]
  },
  {
   "cell_type": "code",
   "execution_count": 3,
   "id": "b51f91c0-6c53-49af-8347-9623283ec721",
   "metadata": {},
   "outputs": [
    {
     "name": "stdout",
     "output_type": "stream",
     "text": [
      "Aperçu des critiques nettoyées :\n",
      "\n",
      "                                              review  \\\n",
      "0  I really liked this Summerslam due to the look...   \n",
      "1  Not many television shows appeal to quite as m...   \n",
      "2  The film quickly gets to a major chase scene w...   \n",
      "3  Jane Austen would definitely approve of this o...   \n",
      "4  Expectations were somewhat high for me when I ...   \n",
      "\n",
      "                                      cleaned_review  \n",
      "0  like summerslam look arena curtain look overal...  \n",
      "1  television show appeal different kind fan like...  \n",
      "2  film quickly get major chase scene increase de...  \n",
      "3  jane austen definitely approve onegwyneth palt...  \n",
      "4  expectation somewhat high go movie think steve...  \n",
      "\n",
      " Longueur moyenne des critiques nettoyées : 104.56 mots\n",
      "\n",
      " Longueur moyenne des critiques  non nettoyées : 233.77 mots\n"
     ]
    }
   ],
   "source": [
    "# Vérifier quelques exemples de critiques originales vs nettoyées\n",
    "print(\"Aperçu des critiques nettoyées :\\n\")\n",
    "print(sample_df[['review', 'cleaned_review']].head())\n",
    "\n",
    "# Statistiques rapides : longueur moyenne des critiques nettoyées\n",
    "sample_df['cleaned_length'] = sample_df['cleaned_review'].apply(lambda x: len(x.split()))\n",
    "sample_df['review_length'] = sample_df['review'].apply(lambda x: len(x.split()))\n",
    "print(f\"\\n Longueur moyenne des critiques nettoyées : {sample_df['cleaned_length'].mean():.2f} mots\")\n",
    "print(f\"\\n Longueur moyenne des critiques  non nettoyées : {sample_df['review_length'].mean():.2f} mots\")"
   ]
  },
  {
   "cell_type": "code",
   "execution_count": 4,
   "id": "be5c4484-f203-4840-8afc-266cedc69f16",
   "metadata": {},
   "outputs": [
    {
     "name": "stdout",
     "output_type": "stream",
     "text": [
      "================================================================================\n",
      "EXEMPLE DE CRITIQUES (originales vs nettoyées) :\n",
      "================================================================================\n",
      "\n",
      "--- Critique 1 ---\n",
      " Originale :\n",
      "I really liked this Summerslam due to the look of the arena, the curtains and just the look overall was interesting to me for some reason. Anyways, this could have been one of the best Summerslam's ever if the WWF didn't have Lex Luger in the main event against Yokozuna, now for it's time it was ok ...\n",
      "\n",
      " Nettoyée :\n",
      "like summerslam look arena curtain look overall interesting reason anyways good summerslam wwf not lex luger main event yokozuna time ok huge fat man vs strong man m glad time change terrible main event like match luger terrible match card razor ramon vs ted dibiase steiner brother vs heavenly body ...\n",
      "\n",
      "--- Critique 2 ---\n",
      " Originale :\n",
      "Not many television shows appeal to quite as many different kinds of fans like Farscape does...I know youngsters and 30/40+ years old;fans both Male and Female in as many different countries as you can think of that just adore this T.V miniseries. It has elements that can be found in almost every ot...\n",
      "\n",
      " Nettoyée :\n",
      "television show appeal different kind fan like farscape doesi know youngster   year oldfans male female different country think adore tv miniserie element find tv character drive drama australian soap opera episode science fact   fiction hardy trekkie run money brainbender stake wormhole theory time...\n",
      "\n",
      "--- Critique 3 ---\n",
      " Originale :\n",
      "The film quickly gets to a major chase scene with ever increasing destruction. The first really bad thing is the guy hijacking Steven Seagal would have been beaten to pulp by Seagal's driving, but that probably would have ended the whole premise for the movie.<br /><br />It seems like they decided t...\n",
      "\n",
      " Nettoyée :\n",
      "film quickly get major chase scene increase destruction bad thing guy hijacking steven seagal beat pulp seagal drive probably end premise movieit like decide kind change movie plot plan enjoy action expect coherent plot turn sense logic reduce chance get headachei hope steven seagal try type charact...\n",
      "================================================================================\n",
      "\n",
      "STATISTIQUES DES TEXTES NETTOYÉS\n",
      "----------------------------------------\n",
      "Nombre de critiques       : 1000\n",
      "Longueur moyenne (mots)   : 104.56\n",
      "Longueur max              : 527\n",
      "Longueur min              : 11\n",
      "----------------------------------------\n"
     ]
    }
   ],
   "source": [
    "#  Affichage de quelques exemples de nettoyage\n",
    "print(\"=\"*80)\n",
    "print(\"EXEMPLE DE CRITIQUES (originales vs nettoyées) :\")\n",
    "print(\"=\"*80)\n",
    "for i in range(3):\n",
    "    print(f\"\\n--- Critique {i+1} ---\")\n",
    "    print(\" Originale :\")\n",
    "    print(sample_df.iloc[i]['review'][:300] + '...')\n",
    "    print(\"\\n Nettoyée :\")\n",
    "    print(sample_df.iloc[i]['cleaned_review'][:300] + '...')\n",
    "print(\"=\"*80)\n",
    "\n",
    "# Statistiques descriptives sur les critiques nettoyées\n",
    "sample_df['cleaned_length'] = sample_df['cleaned_review'].apply(lambda x: len(x.split()))\n",
    "\n",
    "print(\"\\nSTATISTIQUES DES TEXTES NETTOYÉS\")\n",
    "print(\"-\"*40)\n",
    "print(f\"Nombre de critiques       : {len(sample_df)}\")\n",
    "print(f\"Longueur moyenne (mots)   : {sample_df['cleaned_length'].mean():.2f}\")\n",
    "print(f\"Longueur max              : {sample_df['cleaned_length'].max()}\")\n",
    "print(f\"Longueur min              : {sample_df['cleaned_length'].min()}\")\n",
    "print(\"-\"*40)"
   ]
  },
  {
   "cell_type": "code",
   "execution_count": 5,
   "id": "87c84519-f2f2-4d67-93a2-2d453069458f",
   "metadata": {},
   "outputs": [
    {
     "data": {
      "image/png": "[encoded data removed]",
      "text/plain": [
       "<Figure size 800x400 with 1 Axes>"
      ]
     },
     "metadata": {},
     "output_type": "display_data"
    }
   ],
   "source": [
    "import matplotlib.pyplot as plt\n",
    "\n",
    "# Histogramme des longueurs des critiques nettoyées\n",
    "plt.figure(figsize=(8, 4))\n",
    "sample_df['cleaned_length'].hist(bins=30, color='skyblue', edgecolor='black')\n",
    "plt.title('Distribution de la longueur des critiques nettoyées')\n",
    "plt.xlabel('Nombre de mots')\n",
    "plt.ylabel('Nombre de critiques')\n",
    "plt.show()"
   ]
  },
  {
   "cell_type": "code",
   "execution_count": null,
   "id": "44585a04-891f-4943-93f1-08bbc02f33bc",
   "metadata": {},
   "outputs": [],
   "source": []
  }
 ],
 "metadata": {
  "kernelspec": {
   "display_name": "Python 3 (ipykernel)",
   "language": "python",
   "name": "python3"
  },
  "language_info": {
   "codemirror_mode": {
    "name": "ipython",
    "version": 3
   },
   "file_extension": ".py",
   "mimetype": "text/x-python",
   "name": "python",
   "nbconvert_exporter": "python",
   "pygments_lexer": "ipython3",
   "version": "3.10.0"
  }
 },
 "nbformat": 4,
 "nbformat_minor": 5
}
